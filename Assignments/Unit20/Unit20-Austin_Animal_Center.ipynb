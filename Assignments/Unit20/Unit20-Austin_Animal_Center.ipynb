{
 "cells": [
  {
   "cell_type": "markdown",
   "metadata": {},
   "source": [
    "\n",
    "## Was the Number of Husky Adoption Affected by \"Game of Thrones\"?"
   ]
  },
  {
   "cell_type": "markdown",
   "metadata": {},
   "source": [
    "In the summer of 2019, My daughter and I were looking for a dog to adopt.  We visited so many dog shelters to find our \"dream dog\".\n",
    "\n",
    "We knew that the number of the Pit Bulls and Chihuahuas are quite high before we started our search, but we were surprised to find \\\n",
    "quite many Huskies.\\\n",
    "\\\n",
    "Several workers at the shelters told us that the number of Husky adoptions have gone up due to the popularities of the TV show,   Game of Thrones.  It was beyond belief that a TV show has such an effect.  Since then, I found many articles written about this strange phenomenon.  \n",
    "\n",
    "I found an adoption number of the Austin Texas Animal Center, and thought I could find if this \"trend\" is a real thing.\n"
   ]
  },
  {
   "cell_type": "markdown",
   "metadata": {},
   "source": [
    "##### \"Game of Thrones\" - original release : April 17, 2011 – May 19, 2019\n",
    "[Wikipedia on **\"Game of Thrones\"**](https://en.wikipedia.org/wiki/Game_of_Thrones \"Google's Homepage\")\n",
    "\n",
    "Data Source: **Austin TX Animal Center Stats**\\\n",
    "https://data.world/rebeccaclay/austin-tx-animal-center-stats"
   ]
  },
  {
   "cell_type": "code",
   "execution_count": 1,
   "metadata": {},
   "outputs": [],
   "source": [
    "import pandas as pd\n",
    "import numpy as np\n",
    "import matplotlib.pyplot as plt\n",
    "import seaborn as sns"
   ]
  },
  {
   "cell_type": "code",
   "execution_count": 2,
   "metadata": {
    "scrolled": true
   },
   "outputs": [
    {
     "data": {
      "text/html": [
       "<div>\n",
       "<style scoped>\n",
       "    .dataframe tbody tr th:only-of-type {\n",
       "        vertical-align: middle;\n",
       "    }\n",
       "\n",
       "    .dataframe tbody tr th {\n",
       "        vertical-align: top;\n",
       "    }\n",
       "\n",
       "    .dataframe thead th {\n",
       "        text-align: right;\n",
       "    }\n",
       "</style>\n",
       "<table border=\"1\" class=\"dataframe\">\n",
       "  <thead>\n",
       "    <tr style=\"text-align: right;\">\n",
       "      <th></th>\n",
       "      <th>Animal ID</th>\n",
       "      <th>Name</th>\n",
       "      <th>DateTime</th>\n",
       "      <th>MonthYear</th>\n",
       "      <th>Date of Birth</th>\n",
       "      <th>Outcome Type</th>\n",
       "      <th>Outcome Subtype</th>\n",
       "      <th>Animal Type</th>\n",
       "      <th>Sex upon Outcome</th>\n",
       "      <th>Age upon Outcome</th>\n",
       "      <th>Breed</th>\n",
       "      <th>Color</th>\n",
       "    </tr>\n",
       "  </thead>\n",
       "  <tbody>\n",
       "    <tr>\n",
       "      <th>0</th>\n",
       "      <td>A794011</td>\n",
       "      <td>Chunk</td>\n",
       "      <td>05/08/2019 06:20:00 PM</td>\n",
       "      <td>05/08/2019 06:20:00 PM</td>\n",
       "      <td>05/02/2017</td>\n",
       "      <td>Rto-Adopt</td>\n",
       "      <td>NaN</td>\n",
       "      <td>Cat</td>\n",
       "      <td>Neutered Male</td>\n",
       "      <td>2 years</td>\n",
       "      <td>Domestic Shorthair Mix</td>\n",
       "      <td>Brown Tabby/White</td>\n",
       "    </tr>\n",
       "    <tr>\n",
       "      <th>1</th>\n",
       "      <td>A776359</td>\n",
       "      <td>Gizmo</td>\n",
       "      <td>07/18/2018 04:02:00 PM</td>\n",
       "      <td>07/18/2018 04:02:00 PM</td>\n",
       "      <td>07/12/2017</td>\n",
       "      <td>Adoption</td>\n",
       "      <td>NaN</td>\n",
       "      <td>Dog</td>\n",
       "      <td>Neutered Male</td>\n",
       "      <td>1 year</td>\n",
       "      <td>Chihuahua Shorthair Mix</td>\n",
       "      <td>White/Brown</td>\n",
       "    </tr>\n",
       "    <tr>\n",
       "      <th>2</th>\n",
       "      <td>A821648</td>\n",
       "      <td>NaN</td>\n",
       "      <td>08/16/2020 11:38:00 AM</td>\n",
       "      <td>08/16/2020 11:38:00 AM</td>\n",
       "      <td>08/16/2019</td>\n",
       "      <td>Euthanasia</td>\n",
       "      <td>NaN</td>\n",
       "      <td>Other</td>\n",
       "      <td>Unknown</td>\n",
       "      <td>1 year</td>\n",
       "      <td>Raccoon</td>\n",
       "      <td>Gray</td>\n",
       "    </tr>\n",
       "    <tr>\n",
       "      <th>3</th>\n",
       "      <td>A720371</td>\n",
       "      <td>Moose</td>\n",
       "      <td>02/13/2016 05:59:00 PM</td>\n",
       "      <td>02/13/2016 05:59:00 PM</td>\n",
       "      <td>10/08/2015</td>\n",
       "      <td>Adoption</td>\n",
       "      <td>NaN</td>\n",
       "      <td>Dog</td>\n",
       "      <td>Neutered Male</td>\n",
       "      <td>4 months</td>\n",
       "      <td>Anatol Shepherd/Labrador Retriever</td>\n",
       "      <td>Buff</td>\n",
       "    </tr>\n",
       "    <tr>\n",
       "      <th>4</th>\n",
       "      <td>A674754</td>\n",
       "      <td>NaN</td>\n",
       "      <td>03/18/2014 11:47:00 AM</td>\n",
       "      <td>03/18/2014 11:47:00 AM</td>\n",
       "      <td>03/12/2014</td>\n",
       "      <td>Transfer</td>\n",
       "      <td>Partner</td>\n",
       "      <td>Cat</td>\n",
       "      <td>Intact Male</td>\n",
       "      <td>6 days</td>\n",
       "      <td>Domestic Shorthair Mix</td>\n",
       "      <td>Orange Tabby</td>\n",
       "    </tr>\n",
       "  </tbody>\n",
       "</table>\n",
       "</div>"
      ],
      "text/plain": [
       "  Animal ID   Name                DateTime               MonthYear  \\\n",
       "0   A794011  Chunk  05/08/2019 06:20:00 PM  05/08/2019 06:20:00 PM   \n",
       "1   A776359  Gizmo  07/18/2018 04:02:00 PM  07/18/2018 04:02:00 PM   \n",
       "2   A821648    NaN  08/16/2020 11:38:00 AM  08/16/2020 11:38:00 AM   \n",
       "3   A720371  Moose  02/13/2016 05:59:00 PM  02/13/2016 05:59:00 PM   \n",
       "4   A674754    NaN  03/18/2014 11:47:00 AM  03/18/2014 11:47:00 AM   \n",
       "\n",
       "  Date of Birth Outcome Type Outcome Subtype Animal Type Sex upon Outcome  \\\n",
       "0    05/02/2017    Rto-Adopt             NaN         Cat    Neutered Male   \n",
       "1    07/12/2017     Adoption             NaN         Dog    Neutered Male   \n",
       "2    08/16/2019   Euthanasia             NaN       Other          Unknown   \n",
       "3    10/08/2015     Adoption             NaN         Dog    Neutered Male   \n",
       "4    03/12/2014     Transfer         Partner         Cat      Intact Male   \n",
       "\n",
       "  Age upon Outcome                               Breed              Color  \n",
       "0          2 years              Domestic Shorthair Mix  Brown Tabby/White  \n",
       "1           1 year             Chihuahua Shorthair Mix        White/Brown  \n",
       "2           1 year                             Raccoon               Gray  \n",
       "3         4 months  Anatol Shepherd/Labrador Retriever               Buff  \n",
       "4           6 days              Domestic Shorthair Mix       Orange Tabby  "
      ]
     },
     "execution_count": 2,
     "metadata": {},
     "output_type": "execute_result"
    }
   ],
   "source": [
    "data_out = pd.read_csv('Austin_Animal_Center_Outcomes.csv')\n",
    "data_out.head()"
   ]
  },
  {
   "cell_type": "code",
   "execution_count": 3,
   "metadata": {},
   "outputs": [],
   "source": [
    "filter1 = (data_out['Outcome Type'] == 'Adoption') | (data_out['Outcome Type'] == 'Return to Owner')\n",
    "data_out1 = data_out[filter1]"
   ]
  },
  {
   "cell_type": "code",
   "execution_count": 4,
   "metadata": {},
   "outputs": [
    {
     "name": "stderr",
     "output_type": "stream",
     "text": [
      "<ipython-input-4-570d8a3789af>:2: UserWarning: Boolean Series key will be reindexed to match DataFrame index.\n",
      "  data_out2 = data_out1[filter2]\n"
     ]
    }
   ],
   "source": [
    "filter2 = data_out['Animal Type'] == 'Dog'\n",
    "data_out2 = data_out1[filter2]"
   ]
  },
  {
   "cell_type": "code",
   "execution_count": 5,
   "metadata": {},
   "outputs": [],
   "source": [
    "df = data_out2[['Animal ID', 'DateTime', 'Breed']]"
   ]
  },
  {
   "cell_type": "code",
   "execution_count": 6,
   "metadata": {},
   "outputs": [
    {
     "name": "stderr",
     "output_type": "stream",
     "text": [
      "<ipython-input-6-f89ca0c836a5>:1: SettingWithCopyWarning: \n",
      "A value is trying to be set on a copy of a slice from a DataFrame.\n",
      "Try using .loc[row_indexer,col_indexer] = value instead\n",
      "\n",
      "See the caveats in the documentation: https://pandas.pydata.org/pandas-docs/stable/user_guide/indexing.html#returning-a-view-versus-a-copy\n",
      "  df['DateTime'] = pd.to_datetime(df['DateTime'], format='%m/%d/%Y %H:%M:%S %p')  #'%Y-%m-%d %H:%M:%S'\n",
      "<ipython-input-6-f89ca0c836a5>:3: SettingWithCopyWarning: \n",
      "A value is trying to be set on a copy of a slice from a DataFrame.\n",
      "Try using .loc[row_indexer,col_indexer] = value instead\n",
      "\n",
      "See the caveats in the documentation: https://pandas.pydata.org/pandas-docs/stable/user_guide/indexing.html#returning-a-view-versus-a-copy\n",
      "  df['Year'] = df['DateTime'].dt.year\n"
     ]
    }
   ],
   "source": [
    "df['DateTime'] = pd.to_datetime(df['DateTime'], format='%m/%d/%Y %H:%M:%S %p')  #'%Y-%m-%d %H:%M:%S'\n",
    "\n",
    "df['Year'] = df['DateTime'].dt.year\n",
    "#df['Month'] = df['DateTime'].dt.month"
   ]
  },
  {
   "cell_type": "code",
   "execution_count": 7,
   "metadata": {},
   "outputs": [
    {
     "data": {
      "image/png": "[encoded data removed]",
      "text/plain": [
       "<Figure size 720x504 with 1 Axes>"
      ]
     },
     "metadata": {
      "needs_background": "light"
     },
     "output_type": "display_data"
    }
   ],
   "source": [
    "df_2020 = df[df['DateTime'] <= '01/01/2021']\n",
    "fig, ax = plt.subplots(figsize=(10,7))\n",
    "_= sns.countplot(data=df_2020, x=\"Year\").set_title('Overall Dog Adption Numbers')"
   ]
  },
  {
   "cell_type": "markdown",
   "metadata": {},
   "source": [
    "#### Not sure if the spike in the dog adoption overall number in 2013 and fall in 2020 is specific to this Animal Shelter, but the numbers are fairly steady between 2014 and 2019."
   ]
  },
  {
   "cell_type": "code",
   "execution_count": 8,
   "metadata": {},
   "outputs": [],
   "source": [
    "df = df_2020\n",
    "dog_breed = df['Breed'].unique()"
   ]
  },
  {
   "cell_type": "code",
   "execution_count": 9,
   "metadata": {},
   "outputs": [
    {
     "name": "stderr",
     "output_type": "stream",
     "text": [
      "C:\\Users\\junko\\Anaconda3\\lib\\site-packages\\pandas\\core\\frame.py:4296: SettingWithCopyWarning: \n",
      "A value is trying to be set on a copy of a slice from a DataFrame\n",
      "\n",
      "See the caveats in the documentation: https://pandas.pydata.org/pandas-docs/stable/user_guide/indexing.html#returning-a-view-versus-a-copy\n",
      "  return super().rename(\n"
     ]
    }
   ],
   "source": [
    "df_total = df.groupby('Year').agg('count').reset_index()\n",
    "df_total2 = df_total[['Year', 'Animal ID']]\n",
    "df_total2.rename(columns = {'Animal ID':'Total'}, inplace=True)"
   ]
  },
  {
   "cell_type": "code",
   "execution_count": null,
   "metadata": {},
   "outputs": [],
   "source": []
  },
  {
   "cell_type": "code",
   "execution_count": 10,
   "metadata": {},
   "outputs": [],
   "source": [
    "dog_list = []\n",
    "for dog in dog_breed:\n",
    "    if \"Husky\" in dog:\n",
    "        mix_kind = 'Husky Mix'\n",
    "    elif 'Retriever' in dog:\n",
    "        mix_kind = 'Retriever Mix'\n",
    "    elif 'Pit Bull' in dog:\n",
    "        mix_kind = 'Pit Bull Mix'\n",
    "    elif 'Retriever' in dog:\n",
    "        mix_kind = 'Retriever Mix'\n",
    "    elif 'Chihuahua' in dog:\n",
    "        mix_kind = 'Chihuahua Mix'\n",
    "    elif 'Terrier' in dog:\n",
    "        mix_kind = 'Terrier Mix'\n",
    "    elif 'German Shepherd' in dog:\n",
    "        mix_kind = 'German Shepherd Mix'\n",
    "    elif 'Cattle Dog' in dog:\n",
    "        mix_kind = 'Cattle Dog Mix'\n",
    "    elif 'Akita' in dog:\n",
    "        mix_kind = 'Akita Mix'    \n",
    "    else:\n",
    "        mix_kind = 'Other Mix'\n",
    "    \n",
    "    dog_list.append([dog, mix_kind])\n",
    "        \n",
    "dog_dict = dict(dog_list)     "
   ]
  },
  {
   "cell_type": "code",
   "execution_count": 11,
   "metadata": {},
   "outputs": [],
   "source": [
    "df['Breed2'] = df['Breed'].map(dog_dict).fillna('Other Mix')"
   ]
  },
  {
   "cell_type": "code",
   "execution_count": 12,
   "metadata": {},
   "outputs": [],
   "source": [
    "common_breed = ['Retriever Mix', 'Pit Bull Mix', 'Chihuahua Mix', 'Terrier Mix', 'German Shepherd Mix', 'Husky Mix', 'Akita Mix']\n",
    "filter = df.Breed2.isin(common_breed)\n",
    "df_common = df[filter]\n",
    "df_common.head()\n",
    "df1 = df_common[['Year', 'Animal ID', 'Breed2']]"
   ]
  },
  {
   "cell_type": "code",
   "execution_count": 13,
   "metadata": {},
   "outputs": [],
   "source": [
    "df2 = df1.groupby(['Year', 'Breed2']).agg('count').reset_index()"
   ]
  },
  {
   "cell_type": "code",
   "execution_count": 14,
   "metadata": {},
   "outputs": [],
   "source": [
    "df_2019 = df2[df2['Year'] == 2019]\n",
    "df_2019a = df_2019.set_index('Breed2')"
   ]
  },
  {
   "cell_type": "code",
   "execution_count": 15,
   "metadata": {},
   "outputs": [],
   "source": [
    "#df_2019.reset_index().set_index('Breed2').reset_index\n",
    "#df2.reset_index().set_index('Breed2').reset_index"
   ]
  },
  {
   "cell_type": "code",
   "execution_count": 16,
   "metadata": {},
   "outputs": [
    {
     "data": {
      "image/png": "[encoded data removed]",
      "text/plain": [
       "<Figure size 504x504 with 1 Axes>"
      ]
     },
     "metadata": {},
     "output_type": "display_data"
    }
   ],
   "source": [
    "plot = df_2019a.plot.pie(y='Animal ID', figsize=(7, 7), legend=False, label='', title = \"Top 6 Most Common Dogs at the \\\n",
    "Shelter (2019)\")\n"
   ]
  },
  {
   "cell_type": "markdown",
   "metadata": {},
   "source": [
    "#### Knowing that there are many breeds of \"Retrievers\" and \"Terriers\", distinctively high number of Pit Bulls, Chihuahuas, German Shepherds, and Huskies coinside with what I have witnessed at many animal shelters.\n"
   ]
  },
  {
   "cell_type": "code",
   "execution_count": 17,
   "metadata": {},
   "outputs": [
    {
     "name": "stderr",
     "output_type": "stream",
     "text": [
      "C:\\Users\\junko\\Anaconda3\\lib\\site-packages\\pandas\\core\\frame.py:4296: SettingWithCopyWarning: \n",
      "A value is trying to be set on a copy of a slice from a DataFrame\n",
      "\n",
      "See the caveats in the documentation: https://pandas.pydata.org/pandas-docs/stable/user_guide/indexing.html#returning-a-view-versus-a-copy\n",
      "  return super().rename(\n"
     ]
    }
   ],
   "source": [
    "df_husky = df2[df2['Breed2'] == 'Husky Mix']\n",
    "df_husky.rename(columns = {\"Animal ID\":\"Husky\"}, inplace = True)"
   ]
  },
  {
   "cell_type": "code",
   "execution_count": 18,
   "metadata": {},
   "outputs": [],
   "source": [
    "\n",
    "df_compare = df_total2.merge(df_husky, on='Year')\n",
    "df_compare1 = df_compare.set_index('Year')"
   ]
  },
  {
   "cell_type": "code",
   "execution_count": 19,
   "metadata": {},
   "outputs": [
    {
     "data": {
      "text/html": [
       "<div>\n",
       "<style scoped>\n",
       "    .dataframe tbody tr th:only-of-type {\n",
       "        vertical-align: middle;\n",
       "    }\n",
       "\n",
       "    .dataframe tbody tr th {\n",
       "        vertical-align: top;\n",
       "    }\n",
       "\n",
       "    .dataframe thead th {\n",
       "        text-align: right;\n",
       "    }\n",
       "</style>\n",
       "<table border=\"1\" class=\"dataframe\">\n",
       "  <thead>\n",
       "    <tr style=\"text-align: right;\">\n",
       "      <th></th>\n",
       "      <th>Total</th>\n",
       "      <th>Husky</th>\n",
       "      <th>% of Husky</th>\n",
       "    </tr>\n",
       "    <tr>\n",
       "      <th>Year</th>\n",
       "      <th></th>\n",
       "      <th></th>\n",
       "      <th></th>\n",
       "    </tr>\n",
       "  </thead>\n",
       "  <tbody>\n",
       "    <tr>\n",
       "      <th>2013</th>\n",
       "      <td>1778</td>\n",
       "      <td>28</td>\n",
       "      <td>1.57</td>\n",
       "    </tr>\n",
       "    <tr>\n",
       "      <th>2014</th>\n",
       "      <td>7511</td>\n",
       "      <td>141</td>\n",
       "      <td>1.88</td>\n",
       "    </tr>\n",
       "    <tr>\n",
       "      <th>2015</th>\n",
       "      <td>7627</td>\n",
       "      <td>155</td>\n",
       "      <td>2.03</td>\n",
       "    </tr>\n",
       "    <tr>\n",
       "      <th>2016</th>\n",
       "      <td>7811</td>\n",
       "      <td>140</td>\n",
       "      <td>1.79</td>\n",
       "    </tr>\n",
       "    <tr>\n",
       "      <th>2017</th>\n",
       "      <td>7559</td>\n",
       "      <td>176</td>\n",
       "      <td>2.33</td>\n",
       "    </tr>\n",
       "    <tr>\n",
       "      <th>2018</th>\n",
       "      <td>7432</td>\n",
       "      <td>254</td>\n",
       "      <td>3.42</td>\n",
       "    </tr>\n",
       "    <tr>\n",
       "      <th>2019</th>\n",
       "      <td>8213</td>\n",
       "      <td>334</td>\n",
       "      <td>4.07</td>\n",
       "    </tr>\n",
       "    <tr>\n",
       "      <th>2020</th>\n",
       "      <td>3993</td>\n",
       "      <td>207</td>\n",
       "      <td>5.18</td>\n",
       "    </tr>\n",
       "  </tbody>\n",
       "</table>\n",
       "</div>"
      ],
      "text/plain": [
       "      Total  Husky  % of Husky\n",
       "Year                          \n",
       "2013   1778     28        1.57\n",
       "2014   7511    141        1.88\n",
       "2015   7627    155        2.03\n",
       "2016   7811    140        1.79\n",
       "2017   7559    176        2.33\n",
       "2018   7432    254        3.42\n",
       "2019   8213    334        4.07\n",
       "2020   3993    207        5.18"
      ]
     },
     "execution_count": 19,
     "metadata": {},
     "output_type": "execute_result"
    }
   ],
   "source": [
    "df_compare2 = df_compare1[['Total', 'Husky']]\n",
    "df_compare2['% of Husky'] = round(df_compare2['Husky'] / df_compare2['Total'] * 100, 2)\n",
    "df_compare2"
   ]
  },
  {
   "cell_type": "code",
   "execution_count": 20,
   "metadata": {
    "scrolled": true
   },
   "outputs": [
    {
     "data": {
      "image/png": "[encoded data removed]",
      "text/plain": [
       "<Figure size 576x432 with 2 Axes>"
      ]
     },
     "metadata": {
      "needs_background": "light"
     },
     "output_type": "display_data"
    }
   ],
   "source": [
    "#import matplotlib.pyplot as plt\n",
    "\n",
    "fig, ax1 = plt.subplots(figsize=(8,6))\n",
    "ax1 = df_compare1['Total'].plot(kind='bar', use_index=True)\n",
    "ax1.set_title('Comparison')\n",
    "ax1.set_ylabel('Total')\n",
    "\n",
    "ax2 = ax1.twinx()\n",
    "ax2.plot(df_compare1['Husky'].values, linestyle='-', marker='o', linewidth=2, color='r')\n",
    "ax2.set_ylabel('Husky', color='r')\n",
    "ax2.tick_params('y', colors='r')\n",
    "\n",
    "#fig.tight_layout()\n",
    "plt.show()"
   ]
  },
  {
   "cell_type": "markdown",
   "metadata": {},
   "source": [
    "### Conclusion: \n",
    "\n",
    "#### The chart confirms that there has been a sharp increase in the number of Husky adoption.  \n",
    "\n",
    "#### As mentioned at the beginning, the numbers for 2003 and 2020 are somewhat questionable.  However, even if we leave out 2013, the number of Husky adoptions more than doubled in just 6 years since 2014.\n",
    "\n",
    "#### Considering the number of all dog adoptions have not changed much in that same period, I think we can safely say that there is definitely some kind of trend in adopting Huskies.\n",
    "\n",
    "#### Although we can’t possibly link this trend directly to Game of Thrones without further research, it will be interesting to see if the number of Husky adoption will start to decrease now that the TV show ended in 2019.  I do see a decline in the Husky adoption in 2020, but so did the overall dog adoption.  \n",
    "\n",
    "#### I found many articles written about a lot of those who adopted Huskies realize Huskies are high maintenance dogs and are abandoning them.  This also happened with Chihuahuas when they become popular with a streak of films and TV commercials around 2000.  It is a sad trend that the people make decisions to adopt animals so lightly.  However, I do have to point out that many of them found a great home because of this trend.   \n",
    "\n",
    "#### I just hope people will start realizing the issues of overflowing Animal Shelters and take the time to do more research before they adopt a dog (or any other animals).\n"
   ]
  },
  {
   "cell_type": "code",
   "execution_count": null,
   "metadata": {},
   "outputs": [],
   "source": []
  }
 ],
 "metadata": {
  "kernelspec": {
   "display_name": "Python 3",
   "language": "python",
   "name": "python3"
  },
  "language_info": {
   "codemirror_mode": {
    "name": "ipython",
    "version": 3
   },
   "file_extension": ".py",
   "mimetype": "text/x-python",
   "name": "python",
   "nbconvert_exporter": "python",
   "pygments_lexer": "ipython3",
   "version": "3.8.5"
  }
 },
 "nbformat": 4,
 "nbformat_minor": 4
}
