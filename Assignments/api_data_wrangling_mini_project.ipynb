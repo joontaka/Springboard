{
 "cells": [
  {
   "cell_type": "markdown",
   "metadata": {},
   "source": [
    "This exercise will require you to pull some data from the Qunadl API. Qaundl is currently the most widely used aggregator of financial market data."
   ]
  },
  {
   "cell_type": "markdown",
   "metadata": {},
   "source": [
    "As a first step, you will need to register a free account on the http://www.quandl.com website."
   ]
  },
  {
   "cell_type": "markdown",
   "metadata": {},
   "source": [
    "After you register, you will be provided with a unique API key, that you should store:"
   ]
  },
  {
   "cell_type": "code",
   "execution_count": 3,
   "metadata": {},
   "outputs": [],
   "source": [
    "# Store the API key as a string - according to PEP8, constants are always named in all upper case\n",
    "API_KEY = ''\n"
   ]
  },
  {
   "cell_type": "markdown",
   "metadata": {},
   "source": [
    "Qaundl has a large number of data sources, but, unfortunately, most of them require a Premium subscription. Still, there are also a good number of free datasets."
   ]
  },
  {
   "cell_type": "markdown",
   "metadata": {},
   "source": [
    "For this mini project, we will focus on equities data from the Frankfurt Stock Exhange (FSE), which is available for free. We'll try and analyze the stock prices of a company called Carl Zeiss Meditec, which manufactures tools for eye examinations, as well as medical lasers for laser eye surgery: https://www.zeiss.com/meditec/int/home.html. The company is listed under the stock ticker AFX_X."
   ]
  },
  {
   "cell_type": "markdown",
   "metadata": {},
   "source": [
    "You can find the detailed Quandl API instructions here: https://docs.quandl.com/docs/time-series"
   ]
  },
  {
   "cell_type": "markdown",
   "metadata": {},
   "source": [
    "While there is a dedicated Python package for connecting to the Quandl API, we would prefer that you use the *requests* package, which can be easily downloaded using *pip* or *conda*. You can find the documentation for the package here: http://docs.python-requests.org/en/master/ "
   ]
  },
  {
   "cell_type": "markdown",
   "metadata": {},
   "source": [
    "Finally, apart from the *requests* package, you are encouraged to not use any third party Python packages, such as *pandas*, and instead focus on what's available in the Python Standard Library (the *collections* module might come in handy: https://pymotw.com/3/collections/ ).\n",
    "Also, since you won't have access to DataFrames, you are encouraged to us Python's native data structures - preferably dictionaries, though some questions can also be answered using lists.\n",
    "You can read more on these data structures here: https://docs.python.org/3/tutorial/datastructures.html"
   ]
  },
  {
   "cell_type": "markdown",
   "metadata": {},
   "source": [
    "Keep in mind that the JSON responses you will be getting from the API map almost one-to-one to Python's dictionaries. Unfortunately, they can be very nested, so make sure you read up on indexing dictionaries in the documentation provided above."
   ]
  },
  {
   "cell_type": "code",
   "execution_count": 37,
   "metadata": {},
   "outputs": [],
   "source": [
    "# First, import the relevant modules\n",
    "import requests\n",
    "import json\n",
    "import numpy as np"
   ]
  },
  {
   "cell_type": "code",
   "execution_count": 38,
   "metadata": {},
   "outputs": [
    {
     "name": "stdout",
     "output_type": "stream",
     "text": [
      "{'dataset': {'id': 10095370, 'dataset_code': 'AFX_X', 'database_code': 'FSE', 'name': 'Carl Zeiss Meditec (AFX_X)', 'description': 'Stock Prices for Carl Zeiss Meditec (2020-11-02) from the Frankfurt Stock Exchange.<br><br>Trading System: Xetra<br><br>ISIN: DE0005313704', 'refreshed_at': '2020-12-01T14:48:09.907Z', 'newest_available_date': '2020-12-01', 'oldest_available_date': '2000-06-07', 'column_names': ['Date', 'Close'], 'frequency': 'daily', 'type': 'Time Series', 'premium': False, 'limit': None, 'transform': 'rdiff', 'column_index': 4, 'start_date': '2020-11-30', 'end_date': '2020-11-30', 'data': [], 'collapse': 'monthly', 'order': None, 'database_id': 6129}}\n"
     ]
    }
   ],
   "source": [
    "# Now, call the Quandl API and pull out a small sample of the data (only one day) to get a glimpse\n",
    "# into the JSON structure that will be returned\n",
    "\n",
    "url = \"https://www.quandl.com/api/v3/datasets/FSE/AFX_X.json?column_index=4&start_date=2020-11-30&end_date=2020-11-30&collapse=monthly&transform=rdiff&api_key=\" + API_KEY\n",
    "request = requests.get(url).json()\n",
    "\n",
    "print(request)\n"
   ]
  },
  {
   "cell_type": "code",
   "execution_count": 39,
   "metadata": {},
   "outputs": [],
   "source": [
    "# Inspect the JSON structure of the object you created, and take note of how nested it is,\n",
    "# as well as the overall structure\n"
   ]
  },
  {
   "cell_type": "markdown",
   "metadata": {},
   "source": [
    "These are your tasks for this mini project:\n",
    "\n",
    "1. Collect data from the Franfurt Stock Exchange, for the ticker AFX_X, for the whole year 2017 (keep in mind that the date format is YYYY-MM-DD).\n",
    "2. Convert the returned JSON object into a Python dictionary.\n",
    "3. Calculate what the highest and lowest opening prices were for the stock in this period.\n",
    "4. What was the largest change in any one day (based on High and Low price)?\n",
    "5. What was the largest change between any two days (based on Closing Price)?\n",
    "6. What was the average daily trading volume during this year?\n",
    "7. (Optional) What was the median trading volume during this year. (Note: you may need to implement your own function for calculating the median.)"
   ]
  },
  {
   "cell_type": "markdown",
   "metadata": {},
   "source": [
    "1. Collect data from the Franfurt Stock Exchange, for the ticker AFX_X, for the whole year 2017 (keep in mind that the date format is YYYY-MM-DD)."
   ]
  },
  {
   "cell_type": "code",
   "execution_count": 57,
   "metadata": {},
   "outputs": [
    {
     "name": "stdout",
     "output_type": "stream",
     "text": [
      "{\"dataset\":{\"id\":10095370,\"dataset_code\":\"AFX_X\",\"database_code\":\"FSE\",\"name\":\"Carl Zeiss Meditec (AFX_X)\",\"description\":\"Stock Prices for Carl Zeiss Meditec (2020-11-02) from the Frankfurt Stock Exchange.\\u003cbr\\u003e\\u003cbr\\u003eTrading System: Xetra\\u003cbr\\u003e\\u003cbr\\u003eISIN: DE0005313704\",\"refreshed_at\":\"2020-12-01T14:48:09.907Z\",\"newest_available_date\":\"2020-12-01\",\"oldest_available_date\":\"2000-06-07\",\"column_names\":[\"Date\",\"Open\",\"High\",\"Low\",\"Close\",\"Change\",\"Traded Volume\",\"Turnover\",\"Last Price of the Day\",\"Daily Traded Units\",\"Daily Turnover\"],\"frequency\":\"daily\",\"type\":\"Time Series\",\"premium\":false,\"limit\":null,\"transform\":\"rdiff\",\"column_index\":null,\"start_date\":\"2017-01-01\",\"end_date\":\"2017-12-31\",\"data\":[[\"2017-12-31\",0.064144736842105,0.042134831460674,0.065658657829329,0.041448692152917,null,-0.71841748022663,-0.70546365911492,null,null,null],[\"2017-11-30\",0.045347087900279,0.068381564844588,0.058539793904846,0.086101398601399,null,1.1871988621211,1.3536698619206,null,null,null],[\"2017-10-31\",0.067691601652134,0.056146705908988,0.053348729792148,0.035997283223908,null,-0.43654140912233,-0.41037234115339,null,null,null],[\"2017-09-30\",0.037619047619048,0.049667300380228,0.053015564202335,0.05417661097852,null,-0.36777335832996,-0.33363788334701,null,null,null],[\"2017-08-31\",-0.065420560747664,-0.080218579234973,-0.085002225189141,-0.075055187637969,null,1.519274955323,1.3135422489901,null,null,null],[\"2017-07-31\",-0.0015552099533437,0.00021862702229991,-0.0013333333333334,-0.003080985915493,null,-0.53955566004467,-0.54030354534917,null,null,null],[\"2017-06-30\",-0.0046439628482972,-0.011240812797233,-0.0048651039363113,-0.0091583078935892,null,259.75095785441,256.32606887373,null,null,null],[\"2017-05-31\",0.072326298316339,0.09491124260355,0.085453672587614,0.099232981783317,null,-0.9939546949553,-0.99333331300018,null,null,null],[\"2017-04-30\",0.06034699522253,0.054404791614674,0.056823947234906,0.04352176088044,null,-0.094713887316265,-0.049662442843475,null,null,null],[\"2017-03-31\",-0.015106488360575,-0.021489621489622,-0.023774145616642,-0.02105778648384,null,0.41432384341637,0.38152377256589,null,null,null],[\"2017-02-28\",0.14585698070375,0.16203178206583,0.16840277777778,0.18171296296296,null,0.064209180855596,0.24887808280024,null,null,null]],\"collapse\":\"monthly\",\"order\":null,\"database_id\":6129}}\n"
     ]
    }
   ],
   "source": [
    "# collect data for the entire 2017\n",
    "url = \"https://www.quandl.com/api/v3/datasets/FSE/AFX_X.json?&start_date=2017-01-01&end_date=2017-12-31&collapse=monthly&transform=rdiff&api_key=\" + API_KEY\n",
    "request = requests.get(url)\n",
    " \n",
    "print(request.text)"
   ]
  },
  {
   "cell_type": "markdown",
   "metadata": {},
   "source": [
    "2. Convert the returned JSON object into a Python dictionary."
   ]
  },
  {
   "cell_type": "code",
   "execution_count": 8,
   "metadata": {},
   "outputs": [
    {
     "name": "stdout",
     "output_type": "stream",
     "text": [
      "{'dataset': {'id': 10095370, 'dataset_code': 'AFX_X', 'database_code': 'FSE', 'name': 'Carl Zeiss Meditec (AFX_X)', 'description': 'Stock Prices for Carl Zeiss Meditec (2020-11-02) from the Frankfurt Stock Exchange.<br><br>Trading System: Xetra<br><br>ISIN: DE0005313704', 'refreshed_at': '2020-12-01T14:48:09.907Z', 'newest_available_date': '2020-12-01', 'oldest_available_date': '2000-06-07', 'column_names': ['Date', 'Open', 'High', 'Low', 'Close', 'Change', 'Traded Volume', 'Turnover', 'Last Price of the Day', 'Daily Traded Units', 'Daily Turnover'], 'frequency': 'daily', 'type': 'Time Series', 'premium': False, 'limit': None, 'transform': 'rdiff', 'column_index': None, 'start_date': '2017-01-01', 'end_date': '2017-12-31', 'data': [['2017-12-31', 0.064144736842105, 0.042134831460674, 0.065658657829329, 0.041448692152917, None, -0.71841748022663, -0.70546365911492, None, None, None], ['2017-11-30', 0.045347087900279, 0.068381564844588, 0.058539793904846, 0.086101398601399, None, 1.1871988621211, 1.3536698619206, None, None, None], ['2017-10-31', 0.067691601652134, 0.056146705908988, 0.053348729792148, 0.035997283223908, None, -0.43654140912233, -0.41037234115339, None, None, None], ['2017-09-30', 0.037619047619048, 0.049667300380228, 0.053015564202335, 0.05417661097852, None, -0.36777335832996, -0.33363788334701, None, None, None], ['2017-08-31', -0.065420560747664, -0.080218579234973, -0.085002225189141, -0.075055187637969, None, 1.519274955323, 1.3135422489901, None, None, None], ['2017-07-31', -0.0015552099533437, 0.00021862702229991, -0.0013333333333334, -0.003080985915493, None, -0.53955566004467, -0.54030354534917, None, None, None], ['2017-06-30', -0.0046439628482972, -0.011240812797233, -0.0048651039363113, -0.0091583078935892, None, 259.75095785441, 256.32606887373, None, None, None], ['2017-05-31', 0.072326298316339, 0.09491124260355, 0.085453672587614, 0.099232981783317, None, -0.9939546949553, -0.99333331300018, None, None, None], ['2017-04-30', 0.06034699522253, 0.054404791614674, 0.056823947234906, 0.04352176088044, None, -0.094713887316265, -0.049662442843475, None, None, None], ['2017-03-31', -0.015106488360575, -0.021489621489622, -0.023774145616642, -0.02105778648384, None, 0.41432384341637, 0.38152377256589, None, None, None], ['2017-02-28', 0.14585698070375, 0.16203178206583, 0.16840277777778, 0.18171296296296, None, 0.064209180855596, 0.24887808280024, None, None, None]], 'collapse': 'monthly', 'order': None, 'database_id': 6129}}\n"
     ]
    }
   ],
   "source": [
    "# converting response JSON to a dictionary\n",
    "\n",
    "response_json = request.json()\n",
    "response_dict = dict(response_json)\n",
    "\n",
    "print(response_dict)"
   ]
  },
  {
   "cell_type": "markdown",
   "metadata": {},
   "source": [
    "3. Calculate what the highest and lowest opening prices were for the stock in this period."
   ]
  },
  {
   "cell_type": "code",
   "execution_count": 9,
   "metadata": {},
   "outputs": [
    {
     "name": "stdout",
     "output_type": "stream",
     "text": [
      "Highest Opening : 0.14585698070375 \n",
      "Lowest Opening : -0.065420560747664\n"
     ]
    }
   ],
   "source": [
    "# find highest and lowest opening prices\n",
    "\n",
    "response_data = response_dict['dataset']['data']\n",
    "opening_list = []\n",
    "\n",
    "# looping through dataset to create a list of opening prices\n",
    "for data in response_data:\n",
    "    opening_list.append(data[1])\n",
    "\n",
    "# printing result\n",
    "print(f\"Highest Opening : {max(opening_list)} \\nLowest Opening : {min(opening_list)}\")\n"
   ]
  },
  {
   "cell_type": "markdown",
   "metadata": {},
   "source": [
    "4. What was the largest change in any one day (based on High and Low price)?"
   ]
  },
  {
   "cell_type": "code",
   "execution_count": 16,
   "metadata": {},
   "outputs": [
    {
     "name": "stdout",
     "output_type": "stream",
     "text": [
      "The largest change in any one day : 0.023523826368655007\n"
     ]
    }
   ],
   "source": [
    "# finding the largest change in one day\n",
    "\n",
    "oneday_change = []\n",
    "\n",
    "# looping through dataset to create a list of changes in one day\n",
    "for data in response_data:\n",
    "    oneday_change.append(abs(data[2] - data[3]))\n",
    "\n",
    "# printing result\n",
    "print(f\"The largest change in any one day : {max(oneday_change)}\")                        \n",
    "    "
   ]
  },
  {
   "cell_type": "markdown",
   "metadata": {},
   "source": [
    "5. What was the largest change between any two days (based on Closing Price)?"
   ]
  },
  {
   "cell_type": "code",
   "execution_count": 43,
   "metadata": {},
   "outputs": [
    {
     "name": "stdout",
     "output_type": "stream",
     "text": [
      "The largest change in Closing Prices : 0.256768150600929\n"
     ]
    }
   ],
   "source": [
    "# find the largest change in Closing Price between any two days \n",
    "\n",
    "max_closing = 0\n",
    "min_closing = 0\n",
    "\n",
    "# loop through dataset to find max and min Closing Price\n",
    "for data in response_data:\n",
    "    if data[4] > max_closing:\n",
    "        max_closing = data[4]\n",
    "    if data[4] < min_closing:\n",
    "        min_closing = data[4]\n",
    "        \n",
    "# calculate the largest change and print the result\n",
    "print(f\"The largest change in Closing Prices : {max_closing - min_closing}\")"
   ]
  },
  {
   "cell_type": "markdown",
   "metadata": {},
   "source": [
    "6. What was the average daily trading volume during this year?"
   ]
  },
  {
   "cell_type": "code",
   "execution_count": 42,
   "metadata": {},
   "outputs": [
    {
     "name": "stdout",
     "output_type": "stream",
     "text": [
      "The average daily trading volume : 23.61681892783008\n"
     ]
    }
   ],
   "source": [
    "# find the average daily trading volume in 2017\n",
    "\n",
    "trading_volume = []\n",
    "\n",
    "# loop through dataset and create a list of trading volumes\n",
    "for data in response_data:\n",
    "    trading_volume.append(data[6])\n",
    "\n",
    "# calculate the average and print the result\n",
    "print(f\"The average daily trading volume : {np.mean(trading_volume)}\")"
   ]
  },
  {
   "cell_type": "markdown",
   "metadata": {},
   "source": [
    "7. (Optional) What was the median trading volume during this year. (Note: you may need to implement your own function for calculating the median.)"
   ]
  },
  {
   "cell_type": "code",
   "execution_count": 56,
   "metadata": {},
   "outputs": [
    {
     "name": "stdout",
     "output_type": "stream",
     "text": [
      "The median trading volume in 2017 : -0.094713887316265\n"
     ]
    }
   ],
   "source": [
    "# find the median trading volume in 2017\n",
    "\n",
    "# sort trading_volume list\n",
    "sorted_trading_volume = sorted(trading_volume, reverse = True)\n",
    "\n",
    "# function to find median\n",
    "def find_median(lst):\n",
    "\n",
    "    if len(lst) % 2 == 0:  # list length is divisible by 2\n",
    "        hlf_list_count = int(len(lst) / 2)\n",
    "        return (lst[hlf_list_count - 1] + lst[hlf_list_count]) / 2\n",
    "\n",
    "    else:  # list length is not divisible by 2\n",
    "        hlf_list_count = int((len(lst) - 1) / 2)\n",
    "        return lst[hlf_list_count]\n",
    "    \n",
    "# find out median and print the result        \n",
    "print(f\"The median trading volume in 2017 : {find_median(sorted_trading_volume)}\")"
   ]
  },
  {
   "cell_type": "code",
   "execution_count": null,
   "metadata": {},
   "outputs": [],
   "source": []
  }
 ],
 "metadata": {
  "kernelspec": {
   "display_name": "Python 3",
   "language": "python",
   "name": "python3"
  },
  "language_info": {
   "codemirror_mode": {
    "name": "ipython",
    "version": 3
   },
   "file_extension": ".py",
   "mimetype": "text/x-python",
   "name": "python",
   "nbconvert_exporter": "python",
   "pygments_lexer": "ipython3",
   "version": "3.8.5"
  }
 },
 "nbformat": 4,
 "nbformat_minor": 2
}
